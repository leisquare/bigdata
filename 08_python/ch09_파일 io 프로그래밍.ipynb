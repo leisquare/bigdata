{
 "cells": [
  {
   "cell_type": "code",
   "execution_count": 2,
   "metadata": {},
   "outputs": [],
   "source": [
    "#1절 파일에 데이터 저장하고 불러오기"
   ]
  },
  {
   "cell_type": "code",
   "execution_count": 4,
   "metadata": {},
   "outputs": [
    {
     "name": "stdout",
     "output_type": "stream",
     "text": [
      "True\n"
     ]
    }
   ],
   "source": [
    "f=open('data/ch09_sample.txt','w')\n",
    "print(f.writable())"
   ]
  },
  {
   "cell_type": "code",
   "execution_count": 5,
   "metadata": {},
   "outputs": [
    {
     "data": {
      "text/plain": [
       "24"
      ]
     },
     "execution_count": 5,
     "metadata": {},
     "output_type": "execute_result"
    }
   ],
   "source": [
    "f.write('hello\\nworld\\nhello\\npython')"
   ]
  },
  {
   "cell_type": "code",
   "execution_count": 6,
   "metadata": {},
   "outputs": [],
   "source": [
    "f.close()"
   ]
  },
  {
   "cell_type": "code",
   "execution_count": 12,
   "metadata": {},
   "outputs": [
    {
     "name": "stdout",
     "output_type": "stream",
     "text": [
      "True\n"
     ]
    }
   ],
   "source": [
    "#with 구문 이용하면 파일을 열어 사용한 후 매번 닫아주는 코드를 작성할 필요가 없다\n",
    "with open('data/ch09_sample.txt','w') as f:\n",
    "    print(f.writable())\n",
    "    f.write('python is easy\\nPython is smart.')"
   ]
  },
  {
   "cell_type": "code",
   "execution_count": 22,
   "metadata": {},
   "outputs": [],
   "source": [
    "with open('data/ch08_sample.txt','a')as f:\n",
    "    print(\"프린트 함수로 파일 쓰기가 가능합니다.\",file=f,end='\\n')\n",
    "#메모장에서 열어야 제대로 보이게 된다."
   ]
  },
  {
   "cell_type": "code",
   "execution_count": 24,
   "metadata": {},
   "outputs": [],
   "source": [
    "with open('data/ch09_sample.txt','a')as f:\n",
    "    f.write('1방법. Hello\\nWorld\\n')\n",
    "    textlist = ['python is easy.','R is easy','Java is easy']\n",
    "    f.write('2방법.')\n",
    "    for line in textlist:\n",
    "        f.write(line+'\\n')\n",
    "    f.write('3방법.')\n",
    "    f.writelines(textlist)"
   ]
  },
  {
   "cell_type": "code",
   "execution_count": null,
   "metadata": {},
   "outputs": [],
   "source": []
  },
  {
   "cell_type": "code",
   "execution_count": 26,
   "metadata": {},
   "outputs": [
    {
     "name": "stdout",
     "output_type": "stream",
     "text": [
      "['1방법. Hello\\n', 'World\\n', '2방법.python is easy.\\n', 'R is easy\\n', 'Java is easy\\n', '3방법.python is easy.R is easyJava is easy']\n"
     ]
    }
   ],
   "source": [
    "with open('data/ch09_sample.txt','r')as txtfile:\n",
    "    lines=txtfile.readlines()\n",
    "    print(lines)"
   ]
  },
  {
   "cell_type": "code",
   "execution_count": 30,
   "metadata": {},
   "outputs": [
    {
     "name": "stdout",
     "output_type": "stream",
     "text": [
      "1방법. Hello\n",
      "World\n",
      "2방법.python is easy.\n",
      "R is easy\n",
      "Java is easy\n",
      "3방법.python is easy.R is easyJava is easy\n"
     ]
    }
   ],
   "source": [
    "#파일 통채로 읽어 한줄씩 출력\n",
    "with open('data/ch09_sample.txt','r')as f:\n",
    "    lines = f.readlines()\n",
    "    for line in lines:\n",
    "        print(line.strip())"
   ]
  },
  {
   "cell_type": "code",
   "execution_count": 35,
   "metadata": {},
   "outputs": [
    {
     "name": "stdout",
     "output_type": "stream",
     "text": [
      "1방법. Hello\n",
      "World\n",
      "2방법.python is easy.\n",
      "R is easy\n",
      "Java is easy\n",
      "3방법.python is easy.R is easyJava is easy"
     ]
    }
   ],
   "source": [
    "#한 줄 읽고 한 줄 출력하는 방식(파일 끝까지)\n",
    "with open('data/ch09_sample.txt','r')as f:\n",
    "    line = f.readline()\n",
    "    while line !=\"\": #빈 스트링이 왔다면 파일 끝이므로\n",
    "        print(line,end='')\n",
    "        line = f.readline()"
   ]
  },
  {
   "cell_type": "markdown",
   "metadata": {},
   "source": [
    "# 2절 피클을 이용한 객체 저장 및 불러오기"
   ]
  },
  {
   "cell_type": "markdown",
   "metadata": {},
   "source": [
    "## 2.1 형식이 있는 텍스트 데이터"
   ]
  },
  {
   "cell_type": "code",
   "execution_count": 42,
   "metadata": {},
   "outputs": [
    {
     "name": "stdout",
     "output_type": "stream",
     "text": [
      "이름:홍길동\t나이:20\t메일:kildong@tjoeun.co.kr\t주소:서울시강동구\n",
      "이름:홍길순\t나이:22\t메일:kilsun@tjoeun.co.kr\t주소:서울시마포구\n"
     ]
    }
   ],
   "source": [
    "with open('data/ch09_member.txt','r',encoding='UTF-8') as f:\n",
    "    lines = f.readlines()\n",
    "    for line in lines:\n",
    "        data = line.strip().split(',')\n",
    "        name=data[0]\n",
    "        age=int(data[1].strip())\n",
    "        email=data[2].strip()\n",
    "        address=data[3].strip()\n",
    "        print(\"이름:{}\\t나이:{}\\t메일:{}\\t주소:{}\".format(name,age,email,address))"
   ]
  },
  {
   "cell_type": "markdown",
   "metadata": {},
   "source": [
    "## 2.2 피클링 "
   ]
  },
  {
   "cell_type": "code",
   "execution_count": 7,
   "metadata": {},
   "outputs": [],
   "source": [
    "class Member:\n",
    "    def __init__(self,name,age,email,address):\n",
    "        self.name=name\n",
    "        self.age=age\n",
    "        self.email=email\n",
    "        self.address=address\n",
    "    def __str__(self):\n",
    "        return \"이름:{}\\t나이:{}\\t메일:{}\\t주소:{}\".format(self.name,self.age,self.email,self.address)"
   ]
  },
  {
   "cell_type": "code",
   "execution_count": 8,
   "metadata": {},
   "outputs": [],
   "source": [
    "user1=Member(\"홍길동\",20,\"hong@hong.com\",\"서울\")\n",
    "user2=Member(\"최민재\",22,\"hong@hong.com\",\"부산\")\n",
    "user3=Member(\"김정길\",33,\"hong@hong.com\",\"창원\")\n",
    "user_list=[user1,user2,user3]"
   ]
  },
  {
   "cell_type": "code",
   "execution_count": 9,
   "metadata": {},
   "outputs": [
    {
     "name": "stdout",
     "output_type": "stream",
     "text": [
      "이름:홍길동\t나이:20\t메일:hong@hong.com\t주소:서울\n",
      "이름:최민재\t나이:22\t메일:hong@hong.com\t주소:부산\n",
      "이름:김정길\t나이:33\t메일:hong@hong.com\t주소:창원\n"
     ]
    }
   ],
   "source": [
    "for user in user_list:\n",
    "    print(user)"
   ]
  },
  {
   "cell_type": "code",
   "execution_count": 10,
   "metadata": {},
   "outputs": [],
   "source": [
    "with open('data/ch09_member.data','wb')as f:\n",
    "    import pickle\n",
    "    pickle.dump(user_list,f)"
   ]
  },
  {
   "cell_type": "code",
   "execution_count": 11,
   "metadata": {},
   "outputs": [],
   "source": [
    "with open('data/ch09_member.data','rb')as f:\n",
    "    ul=pickle.load(f)"
   ]
  },
  {
   "cell_type": "code",
   "execution_count": 12,
   "metadata": {},
   "outputs": [
    {
     "name": "stdout",
     "output_type": "stream",
     "text": [
      "이름:홍길동\t나이:20\t메일:hong@hong.com\t주소:서울\n",
      "이름:최민재\t나이:22\t메일:hong@hong.com\t주소:부산\n",
      "이름:김정길\t나이:33\t메일:hong@hong.com\t주소:창원\n"
     ]
    }
   ],
   "source": [
    "for user in ul:\n",
    "    print(user)"
   ]
  },
  {
   "cell_type": "code",
   "execution_count": null,
   "metadata": {},
   "outputs": [],
   "source": []
  }
 ],
 "metadata": {
  "kernelspec": {
   "display_name": "Python 3",
   "language": "python",
   "name": "python3"
  },
  "language_info": {
   "codemirror_mode": {
    "name": "ipython",
    "version": 3
   },
   "file_extension": ".py",
   "mimetype": "text/x-python",
   "name": "python",
   "nbconvert_exporter": "python",
   "pygments_lexer": "ipython3",
   "version": "3.8.5"
  },
  "toc": {
   "base_numbering": 1,
   "nav_menu": {},
   "number_sections": true,
   "sideBar": true,
   "skip_h1_title": false,
   "title_cell": "Table of Contents",
   "title_sidebar": "Contents",
   "toc_cell": false,
   "toc_position": {},
   "toc_section_display": true,
   "toc_window_display": false
  },
  "varInspector": {
   "cols": {
    "lenName": 16,
    "lenType": 16,
    "lenVar": 40
   },
   "kernels_config": {
    "python": {
     "delete_cmd_postfix": "",
     "delete_cmd_prefix": "del ",
     "library": "var_list.py",
     "varRefreshCmd": "print(var_dic_list())"
    },
    "r": {
     "delete_cmd_postfix": ") ",
     "delete_cmd_prefix": "rm(",
     "library": "var_list.r",
     "varRefreshCmd": "cat(var_dic_list()) "
    }
   },
   "types_to_exclude": [
    "module",
    "function",
    "builtin_function_or_method",
    "instance",
    "_Feature"
   ],
   "window_display": false
  }
 },
 "nbformat": 4,
 "nbformat_minor": 4
}
